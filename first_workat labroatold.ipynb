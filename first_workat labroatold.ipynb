{
  "nbformat": 4,
  "nbformat_minor": 0,
  "metadata": {
    "colab": {
      "provenance": [],
      "authorship_tag": "ABX9TyN8gO22jmF5+gAuGWlN8tAu",
      "include_colab_link": true
    },
    "kernelspec": {
      "name": "python3",
      "display_name": "Python 3"
    },
    "language_info": {
      "name": "python"
    }
  },
  "cells": [
    {
      "cell_type": "markdown",
      "metadata": {
        "id": "view-in-github",
        "colab_type": "text"
      },
      "source": [
        "<a href=\"https://colab.research.google.com/github/Womics/lab_rotation/blob/main/first_workat%20labroat.ipynb\" target=\"_parent\"><img src=\"https://colab.research.google.com/assets/colab-badge.svg\" alt=\"Open In Colab\"/></a>"
      ]
    },
    {
      "cell_type": "code",
      "execution_count": 1,
      "metadata": {
        "colab": {
          "base_uri": "https://localhost:8080/"
        },
        "id": "X_AwozOJmS0e",
        "outputId": "36280e02-a721-4d0f-96a3-91f363136de1"
      },
      "outputs": [
        {
          "output_type": "execute_result",
          "data": {
            "text/plain": [
              "[array([ 4, 27]),\n",
              " array([0.8, 0.2]),\n",
              " array([4, 6]),\n",
              " array([[ 1, -1],\n",
              "        [ 0,  0]]),\n",
              " array([[0.08189437, 0.24319524],\n",
              "        [0.17585916, 0.28639048]])]"
            ]
          },
          "metadata": {},
          "execution_count": 1
        }
      ],
      "source": [
        "import numpy as np\n",
        "from scipy.stats import norm\n",
        "\n",
        "# Equivalent of vPow in C++\n",
        "def vPow(base, exp):\n",
        "    return np.power(base, exp)\n",
        "\n",
        "# Equivalent of ZeroOne in C++\n",
        "def ZeroOne(x):\n",
        "    return 1 - x\n",
        "\n",
        "# Equivalent of ColSums_cpp in C++\n",
        "def ColSums_cpp(X):\n",
        "    return np.sum(X, axis=0)\n",
        "\n",
        "# Equivalent of Pruning_cpp in C++\n",
        "def Pruning_cpp(West, z):\n",
        "    n = West.shape[1]\n",
        "    for j in range(n):\n",
        "        if z[j] == 1:\n",
        "            West[:, j][West[:, j] < 0] = 0\n",
        "        elif z[j] == 0:\n",
        "            West[:, j][West[:, j] > 0] = 0\n",
        "    return West\n",
        "\n",
        "# Equivalent of EstimateConnections_cpp in C++\n",
        "def EstimateConnections_cpp(Lambda, Eta, nitr):\n",
        "    n = Lambda.shape[1]\n",
        "    I = np.eye(n)\n",
        "    Theta = np.random.rand(n, n)\n",
        "    np.fill_diagonal(Theta, 0)\n",
        "\n",
        "    for itr in range(nitr):\n",
        "        West = Lambda @ (I - Theta)\n",
        "        for i in range(n):\n",
        "            for j in range(n):\n",
        "                Theta[i, j] = norm.cdf(West[i, j] + Eta[i, j])\n",
        "        np.fill_diagonal(Theta, 0)\n",
        "        LT = Lambda @ Theta\n",
        "        Lambda = Lambda - np.diag(np.diag(Lambda)) + np.diag(np.diag(LT))\n",
        "    return West\n",
        "\n",
        "# Displaying the defined functions to ensure they are correctly defined\n",
        "[vPow(np.array([2, 3]), np.array([2, 3])),\n",
        " ZeroOne(np.array([0.2, 0.8])),\n",
        " ColSums_cpp(np.array([[1, 2], [3, 4]])),\n",
        " Pruning_cpp(np.array([[1, -1], [-1, 1]]), np.array([1, 0])),\n",
        " EstimateConnections_cpp(np.array([[0.1, 0.3], [0.2, 0.4]]), np.array([[0.05, 0.07], [0.02, 0.06]]), 1)]\n"
      ]
    },
    {
      "cell_type": "code",
      "source": [
        "!pip install scipy"
      ],
      "metadata": {
        "colab": {
          "base_uri": "https://localhost:8080/"
        },
        "id": "XpDXMEIMo2O7",
        "outputId": "4e12f620-c9a7-40bd-b207-a25642b9357b"
      },
      "execution_count": 5,
      "outputs": [
        {
          "output_type": "stream",
          "name": "stdout",
          "text": [
            "Requirement already satisfied: scipy in /usr/local/lib/python3.10/dist-packages (1.11.4)\n",
            "Requirement already satisfied: numpy<1.28.0,>=1.21.6 in /usr/local/lib/python3.10/dist-packages (from scipy) (1.25.2)\n"
          ]
        }
      ]
    },
    {
      "cell_type": "code",
      "source": [
        "# Re-defining the previously attempted functions with corrections\n",
        "\n",
        "def CalculateSpikeProbMatrix(pre_spike, post_spike, nclust):\n",
        "    # Calculate probability of spiking and resting based on input spike counts\n",
        "    prob_fire = np.mean(pre_spike, axis=0)\n",
        "    prob_rest = np.mean(post_spike, axis=0)\n",
        "    return prob_fire, prob_rest\n",
        "\n",
        "# Probit transformation using scipy's norm.ppf (inverse of cdf for normal distribution)\n",
        "def ProbitTransformation(matrix):\n",
        "    return norm.ppf(matrix)\n",
        "\n",
        "# Gibbs sampling for statistical estimation (placeholder for specific sampling logic)\n",
        "def GibbsSampling(Lambda, Eta, nitr_em, nsamp, excl_ratio):\n",
        "    samples = np.random.normal(loc=Lambda, scale=np.sqrt(Eta), size=(nsamp, Lambda.shape[0], Lambda.shape[1]))\n",
        "    valid_samples = samples[int(nsamp * excl_ratio):]  # Apply exclusion ratio\n",
        "    return np.mean(valid_samples, axis=0)\n",
        "\n",
        "# Estimate neural connections with probabilistic approach\n",
        "def EstimateConnections(Lambda, Eta, z, param):\n",
        "    n = Lambda.shape[1]\n",
        "    Theta = np.random.rand(n, n)\n",
        "    np.fill_diagonal(Theta, 0)\n",
        "    for _ in range(param['number_of_iteration']):\n",
        "        for i in range(n):\n",
        "            for j in range(n):\n",
        "                Theta[i, j] = z[i] * z[j] * norm.cdf(Lambda[i, j] - Eta[i, j])\n",
        "        np.fill_diagonal(Theta, 0)\n",
        "    return Theta\n"
      ],
      "metadata": {
        "id": "WFX4rFQcmbBQ"
      },
      "execution_count": 7,
      "outputs": []
    },
    {
      "cell_type": "code",
      "source": [
        "# Fixing the issue in EstimateExcitatoryLabelGibbs by correctly handling dimensions\n",
        "\n",
        "def EstimateExcitatoryLabelGibbs(Lambda, Eta, proj_type, param):\n",
        "    # Correct dimensioning for Alpha array\n",
        "    Alpha = np.zeros((param['number_of_alpha'], Lambda.shape[0], Lambda.shape[1]))\n",
        "    for i in range(param['number_of_alpha']):\n",
        "        Alpha[i] = GibbsSampling(Lambda, Eta, param['number_of_EM_iteration'], param['number_of_Gibbs_sampler'], param['gibbs_exclude_ratio'])\n",
        "    # Determine labels by averaging across samples and applying a threshold\n",
        "    return np.mean(Alpha, axis=0) > 0.5\n",
        "# Re-test functions with example data\n",
        "Lambda_example = np.array([[0.1, 0.2], [0.3, 0.4]])#Lambda_test = np.array([[0.6, 0.7], [0.8, 0.9]])ここをいじると接続が結構変わる\n",
        "Eta_example = np.array([[0.05, 0.07], [0.06, 0.08]])#Eta_test = np.array([[0.1, 0.2], [0.3, 0.4]])ここをいじっても接続が変わるみたい\n",
        "param_example = {'number_of_iteration': 10, 'number_of_alpha': 2, 'number_of_Gibbs_sampler': 100, 'gibbs_exclude_ratio': 0.02, 'number_of_EM_iteration': 50}\n",
        "\n",
        "# Calculate and display example outputs\n",
        "spike_prob_fire, spike_prob_rest = CalculateSpikeProbMatrix(np.array([[1, 2], [3, 4]]), np.array([[2, 1], [4, 3]]), 2)\n",
        "probit_example = ProbitTransformation(np.array([0.25, 0.75]))\n",
        "gibbs_samples = GibbsSampling(Lambda_example, Eta_example, 50, 100, 0.02)\n",
        "theta_estimates = EstimateConnections(Lambda_example, Eta_example, np.array([1, 0]), param_example)\n",
        "excitatory_labels_corrected = EstimateExcitatoryLabelGibbs(Lambda_example, Eta_example, 'e', param_example)\n",
        "\n",
        "excitatory_labels_corrected"
      ],
      "metadata": {
        "colab": {
          "base_uri": "https://localhost:8080/"
        },
        "id": "7eVkt7ZSoyCT",
        "outputId": "51e7c107-92e1-4f7d-e579-7f90d4e0a68d"
      },
      "execution_count": 12,
      "outputs": [
        {
          "output_type": "execute_result",
          "data": {
            "text/plain": [
              "array([[False, False],\n",
              "       [False, False]])"
            ]
          },
          "metadata": {},
          "execution_count": 12
        }
      ]
    },
    {
      "cell_type": "code",
      "source": [],
      "metadata": {
        "id": "UrbWj4oqpHbh"
      },
      "execution_count": null,
      "outputs": []
    }
  ]
}
